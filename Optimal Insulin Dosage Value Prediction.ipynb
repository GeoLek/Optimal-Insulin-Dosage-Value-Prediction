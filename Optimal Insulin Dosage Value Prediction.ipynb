{
 "cells": [
  {
   "cell_type": "markdown",
   "id": "04922ff2-4299-4f1a-baea-e881b0cefa44",
   "metadata": {
    "collapsed": true,
    "jupyter": {
     "outputs_hidden": true
    }
   },
   "source": [
    "Libraries importing"
   ]
  },
  {
   "cell_type": "code",
   "id": "aa7223ed-2d60-4daa-9ef5-7100fed30937",
   "metadata": {
    "ExecuteTime": {
     "end_time": "2024-09-15T07:15:58.340652Z",
     "start_time": "2024-09-15T07:15:58.337215Z"
    }
   },
   "source": [
    "import numpy as np\n",
    "import pandas as pd\n",
    "from keras.models import Sequential\n",
    "from keras.layers import Dense\n",
    "from keras.optimizers import Adam\n",
    "from rl.agents.dqn import DQNAgent\n",
    "from rl.policy import BoltzmannQPolicy\n",
    "from rl.memory import SequentialMemory\n",
    "from sklearn.model_selection import train_test_split\n",
    "from sklearn.metrics import mean_squared_error, mean_absolute_error\n",
    "from sklearn.linear_model import LinearRegression\n",
    "from sklearn.ensemble import RandomForestRegressor\n",
    "from sklearn.decomposition import PCA\n",
    "import matplotlib.pyplot as plt"
   ],
   "outputs": [],
   "execution_count": 15
  },
  {
   "cell_type": "markdown",
   "id": "1c2d3d04-e331-40df-823a-9466cdaf6955",
   "metadata": {
    "ExecuteTime": {
     "end_time": "2024-09-15T06:27:20.834976Z",
     "start_time": "2024-09-15T06:27:20.833183Z"
    }
   },
   "source": [
    "Helper Functions to build the DQN and Feature Engineering (timestamp)"
   ]
  },
  {
   "cell_type": "code",
   "id": "3a25ecd4c71634f2",
   "metadata": {
    "ExecuteTime": {
     "end_time": "2024-09-15T07:16:10.848532Z",
     "start_time": "2024-09-15T07:16:10.843747Z"
    }
   },
   "source": [
    "# Helper function to build a Deep Q-Network (DQN) model\n",
    "def build_dqn_model(input_shape, nb_actions):\n",
    "    model = Sequential()\n",
    "    model.add(Dense(64, input_shape=input_shape, activation='relu'))\n",
    "    model.add(Dense(64, activation='relu'))\n",
    "    model.add(Dense(nb_actions, activation='linear'))  # Output layer for regression-like tasks\n",
    "    return model\n",
    "\n",
    "# Function to build and return a DQN agent\n",
    "def build_dqn_agent(model, nb_actions):\n",
    "    memory = SequentialMemory(limit=50000, window_length=1)\n",
    "    policy = BoltzmannQPolicy()\n",
    "    dqn = DQNAgent(model=model, memory=memory, policy=policy, \n",
    "                   nb_actions=nb_actions, nb_steps_warmup=10, target_model_update=1e-2)\n",
    "    dqn.compile(Adam(lr=1e-3), metrics=['mae'])\n",
    "    return dqn\n",
    "\n",
    "# Feature engineering (include timestamp features)\n",
    "def feature_engineering(df):\n",
    "    df['timestamp'] = pd.to_datetime(df['timestamp'])\n",
    "    df['hour'] = df['timestamp'].dt.hour\n",
    "    df['day'] = df['timestamp'].dt.day\n",
    "    df['month'] = df['timestamp'].dt.month\n",
    "    df['sin_hour'] = np.sin(2 * np.pi * df['hour'] / 24)\n",
    "    df['cos_hour'] = np.cos(2 * np.pi * df['hour'] / 24)\n",
    "    return df\n"
   ],
   "outputs": [],
   "execution_count": 16
  },
  {
   "cell_type": "markdown",
   "id": "fc1cfdef-0723-47c6-a383-9fcbe729173b",
   "metadata": {},
   "source": [
    "Dataset loading"
   ]
  },
  {
   "cell_type": "code",
   "id": "cd214de0-e853-492f-b466-c9bb4fcced40",
   "metadata": {
    "ExecuteTime": {
     "end_time": "2024-09-15T07:16:15.122901Z",
     "start_time": "2024-09-15T07:16:14.996613Z"
    }
   },
   "source": [
    "# Load the dataset and prepare features\n",
    "df = pd.read_csv('IGI.csv')  # Replace with your actual data file path\n",
    "df = feature_engineering(df)\n",
    "\n",
    "# Features and target\n",
    "X = df[['Glucose_old', 'Glucose_new', 'sin_hour', 'cos_hour']].values\n",
    "y = df['Insulin'].values\n",
    "\n",
    "# Split the data into training and testing sets and keep track of indices\n",
    "X_train, X_test, y_train, y_test, train_idx, test_idx = train_test_split(X, y, df.index, test_size=0.2, random_state=42)\n"
   ],
   "outputs": [],
   "execution_count": 17
  },
  {
   "cell_type": "markdown",
   "id": "c96b3b88-70b3-426f-bab0-8601211daf26",
   "metadata": {},
   "source": [
    "Training and evaluation of the other algorithms"
   ]
  },
  {
   "cell_type": "code",
   "id": "fd983855-9a1b-4576-a49f-b4f984689b61",
   "metadata": {
    "ExecuteTime": {
     "end_time": "2024-09-15T07:16:35.028043Z",
     "start_time": "2024-09-15T07:16:18.398201Z"
    }
   },
   "source": [
    "# Initialize result storage\n",
    "results = {'Algorithm': [], 'RMSE': [], 'MAE': []}\n",
    "\n",
    "# 1. Linear Regression\n",
    "lr = LinearRegression()\n",
    "lr.fit(X_train, y_train)\n",
    "lr_pred = lr.predict(X_test)\n",
    "lr_rmse = np.sqrt(mean_squared_error(y_test, lr_pred))\n",
    "lr_mae = mean_absolute_error(y_test, lr_pred)\n",
    "results['Algorithm'].append('Linear Regression')\n",
    "results['RMSE'].append(lr_rmse)\n",
    "results['MAE'].append(lr_mae)\n",
    "\n",
    "# 2. Random Forest Regressor\n",
    "rf = RandomForestRegressor()\n",
    "rf.fit(X_train, y_train)\n",
    "rf_pred = rf.predict(X_test)\n",
    "rf_rmse = np.sqrt(mean_squared_error(y_test, rf_pred))\n",
    "rf_mae = mean_absolute_error(y_test, rf_pred)\n",
    "results['Algorithm'].append('Random Forest')\n",
    "results['RMSE'].append(rf_rmse)\n",
    "results['MAE'].append(rf_mae)\n",
    "\n",
    "# 3. PCA + Linear Regression\n",
    "pca = PCA(n_components=2)\n",
    "X_train_pca = pca.fit_transform(X_train)\n",
    "X_test_pca = pca.transform(X_test)\n",
    "pca_lr = LinearRegression()\n",
    "pca_lr.fit(X_train_pca, y_train)\n",
    "pca_lr_pred = pca_lr.predict(X_test_pca)\n",
    "pca_lr_rmse = np.sqrt(mean_squared_error(y_test, pca_lr_pred))\n",
    "pca_lr_mae = mean_absolute_error(y_test, pca_lr_pred)\n",
    "results['Algorithm'].append('PCA + Linear Regression')\n",
    "results['RMSE'].append(pca_lr_rmse)\n",
    "results['MAE'].append(pca_lr_mae)\n"
   ],
   "outputs": [],
   "execution_count": 18
  },
  {
   "cell_type": "markdown",
   "id": "e650ad7b-fa8c-4fc5-9521-df77dd644d3d",
   "metadata": {},
   "source": [
    "Set up and Train the Deep Q-Network (DQN)"
   ]
  },
  {
   "cell_type": "code",
   "id": "43fea607-9cc0-47b9-af7b-0903f0d41cb2",
   "metadata": {
    "ExecuteTime": {
     "end_time": "2024-09-15T07:16:44.102075Z",
     "start_time": "2024-09-15T07:16:44.012033Z"
    }
   },
   "source": [
    "# 4. Deep Q-Network (DQN) Setup\n",
    "# Build the DQN model\n",
    "input_shape = (1,) + X_train.shape[1:]  # Add sequence dimension\n",
    "nb_actions = 1  # Predicting a single insulin dose value\n",
    "\n",
    "model = build_dqn_model(input_shape, nb_actions)\n",
    "dqn = build_dqn_agent(model, nb_actions)\n",
    "\n",
    "# Reshape X_train and X_test for DQN\n",
    "X_train_reshaped = np.expand_dims(X_train, axis=1)\n",
    "X_test_reshaped = np.expand_dims(X_test, axis=1)\n",
    "\n",
    "# Train the DQN model\n",
    "dqn.fit(X_train_reshaped, nb_steps=5000, visualize=False, verbose=1)\n",
    "\n",
    "# Use the model to predict insulin dose values\n",
    "dqn_pred = model.predict(X_test_reshaped).flatten()\n",
    "\n",
    "# Evaluate DQN performance\n",
    "dqn_rmse = np.sqrt(mean_squared_error(y_test, dqn_pred))\n",
    "dqn_mae = mean_absolute_error(y_test, dqn_pred)\n",
    "results['Algorithm'].append('Deep Q-Network')\n",
    "results['RMSE'].append(dqn_rmse)\n",
    "results['MAE'].append(dqn_mae)\n",
    "\n",
    "# Convert results into a DataFrame\n",
    "results_df = pd.DataFrame(results)\n",
    "print(results_df)\n"
   ],
   "outputs": [
    {
     "ename": "TypeError",
     "evalue": "Keras symbolic inputs/outputs do not implement `__len__`. You may be trying to pass Keras symbolic inputs/outputs to a TF API that does not register dispatching, preventing Keras from automatically converting the API call to a lambda layer in the Functional Model. This error will also get raised if you try asserting a symbolic input/output directly.",
     "output_type": "error",
     "traceback": [
      "\u001B[0;31m---------------------------------------------------------------------------\u001B[0m",
      "\u001B[0;31mTypeError\u001B[0m                                 Traceback (most recent call last)",
      "Cell \u001B[0;32mIn[19], line 7\u001B[0m\n\u001B[1;32m      4\u001B[0m nb_actions \u001B[38;5;241m=\u001B[39m \u001B[38;5;241m1\u001B[39m  \u001B[38;5;66;03m# Predicting a single insulin dose value\u001B[39;00m\n\u001B[1;32m      6\u001B[0m model \u001B[38;5;241m=\u001B[39m build_dqn_model(input_shape, nb_actions)\n\u001B[0;32m----> 7\u001B[0m dqn \u001B[38;5;241m=\u001B[39m \u001B[43mbuild_dqn_agent\u001B[49m\u001B[43m(\u001B[49m\u001B[43mmodel\u001B[49m\u001B[43m,\u001B[49m\u001B[43m \u001B[49m\u001B[43mnb_actions\u001B[49m\u001B[43m)\u001B[49m\n\u001B[1;32m      9\u001B[0m \u001B[38;5;66;03m# Reshape X_train and X_test for DQN\u001B[39;00m\n\u001B[1;32m     10\u001B[0m X_train_reshaped \u001B[38;5;241m=\u001B[39m np\u001B[38;5;241m.\u001B[39mexpand_dims(X_train, axis\u001B[38;5;241m=\u001B[39m\u001B[38;5;241m1\u001B[39m)\n",
      "Cell \u001B[0;32mIn[16], line 13\u001B[0m, in \u001B[0;36mbuild_dqn_agent\u001B[0;34m(model, nb_actions)\u001B[0m\n\u001B[1;32m     11\u001B[0m memory \u001B[38;5;241m=\u001B[39m SequentialMemory(limit\u001B[38;5;241m=\u001B[39m\u001B[38;5;241m50000\u001B[39m, window_length\u001B[38;5;241m=\u001B[39m\u001B[38;5;241m1\u001B[39m)\n\u001B[1;32m     12\u001B[0m policy \u001B[38;5;241m=\u001B[39m BoltzmannQPolicy()\n\u001B[0;32m---> 13\u001B[0m dqn \u001B[38;5;241m=\u001B[39m \u001B[43mDQNAgent\u001B[49m\u001B[43m(\u001B[49m\u001B[43mmodel\u001B[49m\u001B[38;5;241;43m=\u001B[39;49m\u001B[43mmodel\u001B[49m\u001B[43m,\u001B[49m\u001B[43m \u001B[49m\u001B[43mmemory\u001B[49m\u001B[38;5;241;43m=\u001B[39;49m\u001B[43mmemory\u001B[49m\u001B[43m,\u001B[49m\u001B[43m \u001B[49m\u001B[43mpolicy\u001B[49m\u001B[38;5;241;43m=\u001B[39;49m\u001B[43mpolicy\u001B[49m\u001B[43m,\u001B[49m\u001B[43m \u001B[49m\n\u001B[1;32m     14\u001B[0m \u001B[43m               \u001B[49m\u001B[43mnb_actions\u001B[49m\u001B[38;5;241;43m=\u001B[39;49m\u001B[43mnb_actions\u001B[49m\u001B[43m,\u001B[49m\u001B[43m \u001B[49m\u001B[43mnb_steps_warmup\u001B[49m\u001B[38;5;241;43m=\u001B[39;49m\u001B[38;5;241;43m10\u001B[39;49m\u001B[43m,\u001B[49m\u001B[43m \u001B[49m\u001B[43mtarget_model_update\u001B[49m\u001B[38;5;241;43m=\u001B[39;49m\u001B[38;5;241;43m1e-2\u001B[39;49m\u001B[43m)\u001B[49m\n\u001B[1;32m     15\u001B[0m dqn\u001B[38;5;241m.\u001B[39mcompile(Adam(lr\u001B[38;5;241m=\u001B[39m\u001B[38;5;241m1e-3\u001B[39m), metrics\u001B[38;5;241m=\u001B[39m[\u001B[38;5;124m'\u001B[39m\u001B[38;5;124mmae\u001B[39m\u001B[38;5;124m'\u001B[39m])\n\u001B[1;32m     16\u001B[0m \u001B[38;5;28;01mreturn\u001B[39;00m dqn\n",
      "File \u001B[0;32m~/anaconda3/envs/Reinforcement-Learning/lib/python3.10/site-packages/rl/agents/dqn.py:108\u001B[0m, in \u001B[0;36mDQNAgent.__init__\u001B[0;34m(self, model, policy, test_policy, enable_double_dqn, enable_dueling_network, dueling_type, *args, **kwargs)\u001B[0m\n\u001B[1;32m    105\u001B[0m \u001B[38;5;28msuper\u001B[39m(DQNAgent, \u001B[38;5;28mself\u001B[39m)\u001B[38;5;241m.\u001B[39m\u001B[38;5;21m__init__\u001B[39m(\u001B[38;5;241m*\u001B[39margs, \u001B[38;5;241m*\u001B[39m\u001B[38;5;241m*\u001B[39mkwargs)\n\u001B[1;32m    107\u001B[0m \u001B[38;5;66;03m# Validate (important) input.\u001B[39;00m\n\u001B[0;32m--> 108\u001B[0m \u001B[38;5;28;01mif\u001B[39;00m \u001B[38;5;28mhasattr\u001B[39m(model\u001B[38;5;241m.\u001B[39moutput, \u001B[38;5;124m'\u001B[39m\u001B[38;5;124m__len__\u001B[39m\u001B[38;5;124m'\u001B[39m) \u001B[38;5;129;01mand\u001B[39;00m \u001B[38;5;28;43mlen\u001B[39;49m\u001B[43m(\u001B[49m\u001B[43mmodel\u001B[49m\u001B[38;5;241;43m.\u001B[39;49m\u001B[43moutput\u001B[49m\u001B[43m)\u001B[49m \u001B[38;5;241m>\u001B[39m \u001B[38;5;241m1\u001B[39m:\n\u001B[1;32m    109\u001B[0m     \u001B[38;5;28;01mraise\u001B[39;00m \u001B[38;5;167;01mValueError\u001B[39;00m(\u001B[38;5;124m'\u001B[39m\u001B[38;5;124mModel \u001B[39m\u001B[38;5;124m\"\u001B[39m\u001B[38;5;132;01m{}\u001B[39;00m\u001B[38;5;124m\"\u001B[39m\u001B[38;5;124m has more than one output. DQN expects a model that has a single output.\u001B[39m\u001B[38;5;124m'\u001B[39m\u001B[38;5;241m.\u001B[39mformat(model))\n\u001B[1;32m    110\u001B[0m \u001B[38;5;28;01mif\u001B[39;00m model\u001B[38;5;241m.\u001B[39moutput\u001B[38;5;241m.\u001B[39m_keras_shape \u001B[38;5;241m!=\u001B[39m (\u001B[38;5;28;01mNone\u001B[39;00m, \u001B[38;5;28mself\u001B[39m\u001B[38;5;241m.\u001B[39mnb_actions):\n",
      "File \u001B[0;32m~/anaconda3/envs/Reinforcement-Learning/lib/python3.10/site-packages/keras/engine/keras_tensor.py:244\u001B[0m, in \u001B[0;36mKerasTensor.__len__\u001B[0;34m(self)\u001B[0m\n\u001B[1;32m    243\u001B[0m \u001B[38;5;28;01mdef\u001B[39;00m \u001B[38;5;21m__len__\u001B[39m(\u001B[38;5;28mself\u001B[39m):\n\u001B[0;32m--> 244\u001B[0m     \u001B[38;5;28;01mraise\u001B[39;00m \u001B[38;5;167;01mTypeError\u001B[39;00m(\n\u001B[1;32m    245\u001B[0m         \u001B[38;5;124m\"\u001B[39m\u001B[38;5;124mKeras symbolic inputs/outputs do not \u001B[39m\u001B[38;5;124m\"\u001B[39m\n\u001B[1;32m    246\u001B[0m         \u001B[38;5;124m\"\u001B[39m\u001B[38;5;124mimplement `__len__`. You may be \u001B[39m\u001B[38;5;124m\"\u001B[39m\n\u001B[1;32m    247\u001B[0m         \u001B[38;5;124m\"\u001B[39m\u001B[38;5;124mtrying to pass Keras symbolic inputs/outputs \u001B[39m\u001B[38;5;124m\"\u001B[39m\n\u001B[1;32m    248\u001B[0m         \u001B[38;5;124m\"\u001B[39m\u001B[38;5;124mto a TF API that does not register dispatching, \u001B[39m\u001B[38;5;124m\"\u001B[39m\n\u001B[1;32m    249\u001B[0m         \u001B[38;5;124m\"\u001B[39m\u001B[38;5;124mpreventing Keras from automatically \u001B[39m\u001B[38;5;124m\"\u001B[39m\n\u001B[1;32m    250\u001B[0m         \u001B[38;5;124m\"\u001B[39m\u001B[38;5;124mconverting the API call to a lambda layer \u001B[39m\u001B[38;5;124m\"\u001B[39m\n\u001B[1;32m    251\u001B[0m         \u001B[38;5;124m\"\u001B[39m\u001B[38;5;124min the Functional Model. This error will also get raised \u001B[39m\u001B[38;5;124m\"\u001B[39m\n\u001B[1;32m    252\u001B[0m         \u001B[38;5;124m\"\u001B[39m\u001B[38;5;124mif you try asserting a symbolic input/output directly.\u001B[39m\u001B[38;5;124m\"\u001B[39m\n\u001B[1;32m    253\u001B[0m     )\n",
      "\u001B[0;31mTypeError\u001B[0m: Keras symbolic inputs/outputs do not implement `__len__`. You may be trying to pass Keras symbolic inputs/outputs to a TF API that does not register dispatching, preventing Keras from automatically converting the API call to a lambda layer in the Functional Model. This error will also get raised if you try asserting a symbolic input/output directly."
     ]
    }
   ],
   "execution_count": 19
  },
  {
   "cell_type": "markdown",
   "id": "70d0561a-1682-448f-b380-6c69247e029d",
   "metadata": {},
   "source": [
    "Plot Predictions for All Models"
   ]
  },
  {
   "cell_type": "code",
   "execution_count": null,
   "id": "2e34e38d-0afa-4f22-956f-e0396411837e",
   "metadata": {},
   "outputs": [],
   "source": [
    "# Plot predictions for each algorithm\n",
    "plt.figure(figsize=(10, 6))\n",
    "\n",
    "# Use test set indices to get the corresponding timestamps\n",
    "test_timestamps = df.loc[test_idx, 'timestamp']\n",
    "\n",
    "# Plot actual insulin dose using test set timestamps\n",
    "plt.plot(test_timestamps, y_test, label='Actual Insulin Dose', color='black', linestyle='--')\n",
    "\n",
    "# Add predicted values from each model to the plot\n",
    "plt.plot(test_timestamps, lr_pred, label='Linear Regression', marker='o')\n",
    "plt.plot(test_timestamps, rf_pred, label='Random Forest', marker='x')\n",
    "plt.plot(test_timestamps, pca_lr_pred, label='PCA + Linear Regression', marker='s')\n",
    "plt.plot(test_timestamps, dqn_pred, label='Deep Q-Network', marker='d')\n",
    "\n",
    "# Customize the plot\n",
    "plt.xlabel('Timestamp')\n",
    "plt.ylabel('Insulin Dose')\n",
    "plt.title('Predicted vs Actual Insulin Dose')\n",
    "plt.legend()\n",
    "plt.xticks(rotation=45)\n",
    "plt.tight_layout()\n",
    "plt.show()\n"
   ]
  }
 ],
 "metadata": {
  "kernelspec": {
   "display_name": "Python 3 (ipykernel)",
   "language": "python",
   "name": "python3"
  },
  "language_info": {
   "codemirror_mode": {
    "name": "ipython",
    "version": 3
   },
   "file_extension": ".py",
   "mimetype": "text/x-python",
   "name": "python",
   "nbconvert_exporter": "python",
   "pygments_lexer": "ipython3",
   "version": "3.11.7"
  }
 },
 "nbformat": 4,
 "nbformat_minor": 5
}
